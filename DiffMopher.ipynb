{
  "cells": [
    {
      "cell_type": "markdown",
      "metadata": {
        "id": "view-in-github",
        "colab_type": "text"
      },
      "source": [
        "<a href=\"https://colab.research.google.com/github/cedro3/others10/blob/master/DiffMopher.ipynb\" target=\"_parent\"><img src=\"https://colab.research.google.com/assets/colab-badge.svg\" alt=\"Open In Colab\"/></a>"
      ]
    },
    {
      "cell_type": "code",
      "execution_count": null,
      "metadata": {
        "id": "6FZD9IdB5HNV"
      },
      "outputs": [],
      "source": [
        "%cd /content/\n",
        "!git lfs install\n",
        "!git clone https://huggingface.co/spaces/microsoft/HuggingGPT\n",
        "%cd /content/HuggingGPT/\n",
        "\n",
        "!pip install -r requirements.txt\n",
        "!pip install gradio\n",
        "\n",
        "!pip install --upgrade pyngrok\n",
        "import os\n",
        "from pyngrok import ngrok, conf\n",
        "\n",
        "# ngrokトークンを設定\n",
        "conf.get_default().auth_token = \"1ooR0mbvnaIetot2hIRcaZGLtJT_4hrSyR972wYZBfAp9Wbzi\"\n",
        "public_url = ngrok.connect(7860)\n",
        "print(f\"ngrok URL: {public_url}\")\n"
      ]
    },
    {
      "cell_type": "code",
      "execution_count": null,
      "metadata": {
        "id": "-rQS8b284zmS"
      },
      "outputs": [],
      "source": [
        "! git clone https://github.com/cedro3/DiffMorpher.git\n",
        "%cd DiffMorpher\n",
        "! pip install -r requirements.txt\n",
        "! python app.py"
      ]
    }
  ],
  "metadata": {
    "accelerator": "GPU",
    "colab": {
      "machine_shape": "hm",
      "provenance": [],
      "authorship_tag": "ABX9TyMWvRgG4F2IPFDWaj4VfFWv",
      "include_colab_link": true
    },
    "kernelspec": {
      "display_name": "Python 3",
      "name": "python3"
    },
    "language_info": {
      "name": "python"
    }
  },
  "nbformat": 4,
  "nbformat_minor": 0
}